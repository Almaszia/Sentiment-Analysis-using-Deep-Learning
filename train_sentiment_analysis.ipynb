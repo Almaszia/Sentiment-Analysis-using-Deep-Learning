{
  "cells": [
    {
      "cell_type": "code",
      "execution_count": 1,
      "metadata": {
        "id": "m-5DHXZNYXGv"
      },
      "outputs": [],
      "source": [
        "\n",
        "import numpy as np\n",
        "import matplotlib.pyplot as plt\n",
        "import pandas as pd"
      ]
    },
    {
      "cell_type": "code",
      "source": [
        "from google.colab import drive\n",
        "drive.mount('/content/drive')"
      ],
      "metadata": {
        "colab": {
          "base_uri": "https://localhost:8080/"
        },
        "id": "9JrGjcVhIyPx",
        "outputId": "90245ba7-a382-4a97-bfb8-0eb0503797dd"
      },
      "execution_count": 2,
      "outputs": [
        {
          "output_type": "stream",
          "name": "stdout",
          "text": [
            "Mounted at /content/drive\n"
          ]
        }
      ]
    },
    {
      "cell_type": "code",
      "source": [
        "import os\n",
        "os.chdir('/content/drive/MyDrive/job_test')\n",
        "print(os.listdir())"
      ],
      "metadata": {
        "colab": {
          "base_uri": "https://localhost:8080/"
        },
        "id": "OeeRI9I3JFCT",
        "outputId": "a8ef6eda-a951-436a-97f3-af0d4b116ee9"
      },
      "execution_count": 5,
      "outputs": [
        {
          "output_type": "stream",
          "name": "stdout",
          "text": [
            "['glove.6B.200d.txt', 'train_data.csv']\n"
          ]
        }
      ]
    },
    {
      "cell_type": "code",
      "execution_count": 6,
      "metadata": {
        "colab": {
          "base_uri": "https://localhost:8080/"
        },
        "id": "QgRZ0F4JcxWt",
        "outputId": "b801595c-2530-4621-c96b-8aeddb5b119a"
      },
      "outputs": [
        {
          "output_type": "execute_result",
          "data": {
            "text/plain": [
              "(32000, 2)"
            ]
          },
          "metadata": {},
          "execution_count": 6
        }
      ],
      "source": [
        "#Reading Dataset\n",
        "dataset = pd.read_csv(\"train_data.csv\")\n",
        "dataset.head()\n",
        "dataset.shape"
      ]
    },
    {
      "cell_type": "code",
      "execution_count": 8,
      "metadata": {
        "id": "OuKBd0kbcxbx"
      },
      "outputs": [],
      "source": [
        "\n",
        "def preprocess_text(sen):\n",
        "    # Removing html tags\n",
        "    sentence = remove_tags(sen)\n",
        "\n",
        "    # Remove punctuations and numbers\n",
        "    sentence = re.sub('[^a-zA-Z]', ' ', sentence)\n",
        "\n",
        "    # Single character removal\n",
        "    sentence = re.sub(r\"\\s+[a-zA-Z]\\s+\", ' ', sentence)\n",
        "\n",
        "    # Removing multiple spaces\n",
        "    sentence = re.sub(r'\\s+', ' ', sentence)\n",
        "\n",
        "    return sentence"
      ]
    },
    {
      "cell_type": "code",
      "execution_count": 9,
      "metadata": {
        "id": "VMj5boKtdAFC"
      },
      "outputs": [],
      "source": [
        "X = []\n",
        "sentences = list(dataset['review'])\n",
        "for sen in sentences:\n",
        "    X.append(preprocess_text(sen))"
      ]
    },
    {
      "cell_type": "code",
      "execution_count": 10,
      "metadata": {
        "colab": {
          "base_uri": "https://localhost:8080/"
        },
        "id": "XO4Mf3y3dAHv",
        "outputId": "03d2c397-fe8d-4e50-fac5-a695c1182545"
      },
      "outputs": [
        {
          "output_type": "stream",
          "name": "stdout",
          "text": [
            "OMG this is one of the worst films iv ever seen and iv seen lot m Film student don understand why Angelina Jolie would be in this movie Did she need the money that badly love AJ and have seen almost everything shes ever been in so watched this tick another one off It was SOO bad not even good bad just bad bad It had or funny little moments but all in all it was bad a waste of minutes cant even say AJ looked good in it because well she didn The plot is predictable unless you expecting re telling of Romeo and Juliet then its not All round disappointing Maybe if your this could be good film otherwise really don recommend it \n"
          ]
        }
      ],
      "source": [
        "print(X[3])"
      ]
    },
    {
      "cell_type": "code",
      "execution_count": 11,
      "metadata": {
        "id": "tOmJjnkfdAKZ"
      },
      "outputs": [],
      "source": [
        "\n",
        "Y = dataset['sentiment']\n",
        "\n",
        "#Converting Labels into integers\n",
        "Y = np.array(list(map(lambda x: 1 if x==\"positive\" else 0, Y)))"
      ]
    },
    {
      "cell_type": "code",
      "execution_count": 12,
      "metadata": {
        "id": "mAB9EQcvdAM8"
      },
      "outputs": [],
      "source": [
        "#spliting the dataset\n",
        "from sklearn.model_selection import train_test_split\n",
        "X_train,X_test,Y_train,Y_test = train_test_split(X,Y,test_size=0.2,random_state=0)"
      ]
    },
    {
      "cell_type": "code",
      "execution_count": 13,
      "metadata": {
        "id": "Qj1lYYXUdAPx"
      },
      "outputs": [],
      "source": [
        "#extract tokens from the text the number of tokens is 5000\n",
        "from keras.preprocessing.text import Tokenizer\n",
        "tokenizer = Tokenizer(num_words=20000)\n",
        "tokenizer.fit_on_texts(X_train)"
      ]
    },
    {
      "cell_type": "code",
      "execution_count": 14,
      "metadata": {
        "id": "A_LnF_bJdAR7"
      },
      "outputs": [],
      "source": [
        "#Tokenization\n",
        "X_train = tokenizer.texts_to_sequences(X_train)\n",
        "X_test = tokenizer.texts_to_sequences(X_test)"
      ]
    },
    {
      "cell_type": "code",
      "execution_count": 15,
      "metadata": {
        "colab": {
          "base_uri": "https://localhost:8080/"
        },
        "id": "ikxXObgZdN1b",
        "outputId": "058e8e04-a320-48ec-fe3f-a0fe934955b1"
      },
      "outputs": [
        {
          "output_type": "stream",
          "name": "stdout",
          "text": [
            "Found 76942 unique tokens.\n"
          ]
        }
      ],
      "source": [
        "#Finding Unique Tokens\n",
        "vocab_size = len(tokenizer.word_index) + 1\n",
        "print('Found %s unique tokens.' % vocab_size)"
      ]
    },
    {
      "cell_type": "code",
      "execution_count": 16,
      "metadata": {
        "id": "FnKEtvEpdN4F"
      },
      "outputs": [],
      "source": [
        "#padding\n",
        "from tensorflow.keras.preprocessing.sequence import pad_sequences\n",
        "maxlen = 256\n",
        "X_train = pad_sequences(X_train, padding='post', maxlen=maxlen)\n",
        "X_test = pad_sequences(X_test, padding='post', maxlen=maxlen)"
      ]
    },
    {
      "cell_type": "code",
      "execution_count": 17,
      "metadata": {
        "id": "b0m4N6d6dN6i"
      },
      "outputs": [],
      "source": [
        "#Word embeddings using Glove\n",
        "from numpy import asarray\n",
        "embeddings_dictionary = dict()\n",
        "glove_file = open('./glove.6B.200d.txt', encoding=\"utf8\")\n",
        "\n",
        "for line in glove_file:\n",
        "    records = line.split(' ')\n",
        "    word = records[0]\n",
        "    vector_dimensions = asarray(records[1:], dtype='float32')\n",
        "    embeddings_dictionary [word] = vector_dimensions\n",
        "glove_file.close()"
      ]
    },
    {
      "cell_type": "code",
      "execution_count": 18,
      "metadata": {
        "id": "xqwSLkizwJOg"
      },
      "outputs": [],
      "source": [
        "from numpy import zeros\n",
        "embedding_matrix = zeros((vocab_size, 200))\n",
        "for word, index in tokenizer.word_index.items():\n",
        "    embedding_vector = embeddings_dictionary.get(word)\n",
        "    if embedding_vector is not None:\n",
        "        embedding_matrix[index] = embedding_vector"
      ]
    },
    {
      "cell_type": "code",
      "execution_count": 19,
      "metadata": {
        "id": "YyYhyaRtwJRg"
      },
      "outputs": [],
      "source": [
        "#Building LSTM model\n",
        "from keras.models import Sequential\n",
        "from keras.layers.core import Activation, Dropout, Dense\n",
        "from keras.layers import Embedding\n",
        "from keras.layers import Flatten, LSTM\n",
        "\n",
        "model = Sequential()\n",
        "embedding_layer = Embedding(vocab_size, 200,\n",
        "                            weights=[embedding_matrix],\n",
        "                            input_length=maxlen ,\n",
        "                            trainable=False)\n",
        "model.add(embedding_layer)\n",
        "model.add(LSTM(128,return_sequences=True,dropout=0.5))\n",
        "model.add(LSTM(32,dropout=0.5))\n",
        "model.add(Dense(1, activation='sigmoid'))\n",
        "model.compile(optimizer = 'adam',\n",
        "              loss = 'mean_squared_error',\n",
        "              metrics=['acc'])\n"
      ]
    },
    {
      "cell_type": "code",
      "execution_count": 20,
      "metadata": {
        "colab": {
          "base_uri": "https://localhost:8080/"
        },
        "id": "3JNpBiGawJUN",
        "outputId": "82100305-bfe9-49d0-a2d7-a5672bfd1323"
      },
      "outputs": [
        {
          "output_type": "stream",
          "name": "stdout",
          "text": [
            "Model: \"sequential\"\n",
            "_________________________________________________________________\n",
            " Layer (type)                Output Shape              Param #   \n",
            "=================================================================\n",
            " embedding (Embedding)       (None, 256, 200)          15388400  \n",
            "                                                                 \n",
            " lstm (LSTM)                 (None, 256, 128)          168448    \n",
            "                                                                 \n",
            " lstm_1 (LSTM)               (None, 32)                20608     \n",
            "                                                                 \n",
            " dense (Dense)               (None, 1)                 33        \n",
            "                                                                 \n",
            "=================================================================\n",
            "Total params: 15,577,489\n",
            "Trainable params: 189,089\n",
            "Non-trainable params: 15,388,400\n",
            "_________________________________________________________________\n",
            "None\n"
          ]
        }
      ],
      "source": [
        "#Model Summary\n",
        "print(model.summary())"
      ]
    },
    {
      "cell_type": "code",
      "execution_count": 21,
      "metadata": {
        "id": "pXa12rfPwcT1"
      },
      "outputs": [],
      "source": [
        "#defining checkpoints to save best model\n",
        "from tensorflow.keras.callbacks import ModelCheckpoint, Callback\n",
        "from tensorflow.keras.callbacks import ModelCheckpoint, Callback\n",
        "\n",
        "class PrintLossAndAccuracy(Callback):\n",
        "    def on_epoch_end(self, epoch, logs=None):\n",
        "        print(f\"Epoch {epoch+1}/{epochs}\")\n",
        "        print(f\"Training - loss: {logs['loss']:.4f} - accuracy: {logs['acc']:.4f}\")\n",
        "        print(f\"Validation - loss: {logs['val_loss']:.4f} - accuracy: {logs['val_acc']:.4f}\")\n",
        "        print()\n",
        "\n",
        "model_checkpoint_path = \"/content/drive/MyDrive/job_test/best_model.h5\"\n",
        "checkpoint = ModelCheckpoint(model_checkpoint_path, monitor='val_acc', verbose=1, save_best_only=True, save_weights_only=False, mode='max')"
      ]
    },
    {
      "cell_type": "code",
      "execution_count": 22,
      "metadata": {
        "colab": {
          "base_uri": "https://localhost:8080/"
        },
        "id": "S4TWieHDhQBj",
        "outputId": "77c95d3f-de7c-4c82-81a6-826698864b79"
      },
      "outputs": [
        {
          "output_type": "stream",
          "name": "stdout",
          "text": [
            "Epoch 1/25\n",
            "200/200 [==============================] - ETA: 0s - loss: 0.2418 - acc: 0.5557\n",
            "Epoch 1: val_acc improved from -inf to 0.70000, saving model to /content/drive/MyDrive/job_test/best_model.h5\n",
            "Epoch 1/25\n",
            "Training - loss: 0.2418 - accuracy: 0.5557\n",
            "Validation - loss: 0.2056 - accuracy: 0.7000\n",
            "\n",
            "200/200 [==============================] - 311s 2s/step - loss: 0.2418 - acc: 0.5557 - val_loss: 0.2056 - val_acc: 0.7000\n",
            "Epoch 2/25\n",
            "200/200 [==============================] - ETA: 0s - loss: 0.2226 - acc: 0.6532\n",
            "Epoch 2: val_acc improved from 0.70000 to 0.74937, saving model to /content/drive/MyDrive/job_test/best_model.h5\n",
            "Epoch 2/25\n",
            "Training - loss: 0.2226 - accuracy: 0.6532\n",
            "Validation - loss: 0.1870 - accuracy: 0.7494\n",
            "\n",
            "200/200 [==============================] - 311s 2s/step - loss: 0.2226 - acc: 0.6532 - val_loss: 0.1870 - val_acc: 0.7494\n",
            "Epoch 3/25\n",
            "200/200 [==============================] - ETA: 0s - loss: 0.2318 - acc: 0.6311\n",
            "Epoch 3: val_acc did not improve from 0.74937\n",
            "Epoch 3/25\n",
            "Training - loss: 0.2318 - accuracy: 0.6311\n",
            "Validation - loss: 0.2525 - accuracy: 0.6250\n",
            "\n",
            "200/200 [==============================] - 305s 2s/step - loss: 0.2318 - acc: 0.6311 - val_loss: 0.2525 - val_acc: 0.6250\n",
            "Epoch 4/25\n",
            "200/200 [==============================] - ETA: 0s - loss: 0.2431 - acc: 0.5538\n",
            "Epoch 4: val_acc did not improve from 0.74937\n",
            "Epoch 4/25\n",
            "Training - loss: 0.2431 - accuracy: 0.5538\n",
            "Validation - loss: 0.2511 - accuracy: 0.5406\n",
            "\n",
            "200/200 [==============================] - 296s 1s/step - loss: 0.2431 - acc: 0.5538 - val_loss: 0.2511 - val_acc: 0.5406\n",
            "Epoch 5/25\n",
            "200/200 [==============================] - ETA: 0s - loss: 0.2158 - acc: 0.6630\n",
            "Epoch 5: val_acc did not improve from 0.74937\n",
            "Epoch 5/25\n",
            "Training - loss: 0.2158 - accuracy: 0.6630\n",
            "Validation - loss: 0.2322 - accuracy: 0.6922\n",
            "\n",
            "200/200 [==============================] - 294s 1s/step - loss: 0.2158 - acc: 0.6630 - val_loss: 0.2322 - val_acc: 0.6922\n",
            "Epoch 6/25\n",
            "200/200 [==============================] - ETA: 0s - loss: 0.1463 - acc: 0.7968\n",
            "Epoch 6: val_acc improved from 0.74937 to 0.82313, saving model to /content/drive/MyDrive/job_test/best_model.h5\n",
            "Epoch 6/25\n",
            "Training - loss: 0.1463 - accuracy: 0.7968\n",
            "Validation - loss: 0.1307 - accuracy: 0.8231\n",
            "\n",
            "200/200 [==============================] - 300s 2s/step - loss: 0.1463 - acc: 0.7968 - val_loss: 0.1307 - val_acc: 0.8231\n",
            "Epoch 7/25\n",
            "200/200 [==============================] - ETA: 0s - loss: 0.1213 - acc: 0.8299\n",
            "Epoch 7: val_acc improved from 0.82313 to 0.85359, saving model to /content/drive/MyDrive/job_test/best_model.h5\n",
            "Epoch 7/25\n",
            "Training - loss: 0.1213 - accuracy: 0.8299\n",
            "Validation - loss: 0.1051 - accuracy: 0.8536\n",
            "\n",
            "200/200 [==============================] - 300s 1s/step - loss: 0.1213 - acc: 0.8299 - val_loss: 0.1051 - val_acc: 0.8536\n",
            "Epoch 8/25\n",
            "200/200 [==============================] - ETA: 0s - loss: 0.1162 - acc: 0.8396\n",
            "Epoch 8: val_acc did not improve from 0.85359\n",
            "Epoch 8/25\n",
            "Training - loss: 0.1162 - accuracy: 0.8396\n",
            "Validation - loss: 0.1067 - accuracy: 0.8455\n",
            "\n",
            "200/200 [==============================] - 303s 2s/step - loss: 0.1162 - acc: 0.8396 - val_loss: 0.1067 - val_acc: 0.8455\n",
            "Epoch 9/25\n",
            "200/200 [==============================] - ETA: 0s - loss: 0.1120 - acc: 0.8432\n",
            "Epoch 9: val_acc improved from 0.85359 to 0.86437, saving model to /content/drive/MyDrive/job_test/best_model.h5\n",
            "Epoch 9/25\n",
            "Training - loss: 0.1120 - accuracy: 0.8432\n",
            "Validation - loss: 0.0988 - accuracy: 0.8644\n",
            "\n",
            "200/200 [==============================] - 300s 2s/step - loss: 0.1120 - acc: 0.8432 - val_loss: 0.0988 - val_acc: 0.8644\n",
            "Epoch 10/25\n",
            "200/200 [==============================] - ETA: 0s - loss: 0.1071 - acc: 0.8518\n",
            "Epoch 10: val_acc improved from 0.86437 to 0.86984, saving model to /content/drive/MyDrive/job_test/best_model.h5\n",
            "Epoch 10/25\n",
            "Training - loss: 0.1071 - accuracy: 0.8518\n",
            "Validation - loss: 0.0957 - accuracy: 0.8698\n",
            "\n",
            "200/200 [==============================] - 300s 2s/step - loss: 0.1071 - acc: 0.8518 - val_loss: 0.0957 - val_acc: 0.8698\n",
            "Epoch 11/25\n",
            "200/200 [==============================] - ETA: 0s - loss: 0.1038 - acc: 0.8552\n",
            "Epoch 11: val_acc improved from 0.86984 to 0.87453, saving model to /content/drive/MyDrive/job_test/best_model.h5\n",
            "Epoch 11/25\n",
            "Training - loss: 0.1038 - accuracy: 0.8552\n",
            "Validation - loss: 0.0918 - accuracy: 0.8745\n",
            "\n",
            "200/200 [==============================] - 300s 2s/step - loss: 0.1038 - acc: 0.8552 - val_loss: 0.0918 - val_acc: 0.8745\n",
            "Epoch 12/25\n",
            "200/200 [==============================] - ETA: 0s - loss: 0.1004 - acc: 0.8616\n",
            "Epoch 12: val_acc did not improve from 0.87453\n",
            "Epoch 12/25\n",
            "Training - loss: 0.1004 - accuracy: 0.8616\n",
            "Validation - loss: 0.0929 - accuracy: 0.8728\n",
            "\n",
            "200/200 [==============================] - 299s 1s/step - loss: 0.1004 - acc: 0.8616 - val_loss: 0.0929 - val_acc: 0.8728\n",
            "Epoch 13/25\n",
            "200/200 [==============================] - ETA: 0s - loss: 0.0982 - acc: 0.8629\n",
            "Epoch 13: val_acc did not improve from 0.87453\n",
            "Epoch 13/25\n",
            "Training - loss: 0.0982 - accuracy: 0.8629\n",
            "Validation - loss: 0.1022 - accuracy: 0.8637\n",
            "\n",
            "200/200 [==============================] - 298s 1s/step - loss: 0.0982 - acc: 0.8629 - val_loss: 0.1022 - val_acc: 0.8637\n",
            "Epoch 14/25\n",
            "200/200 [==============================] - ETA: 0s - loss: 0.0952 - acc: 0.8691\n",
            "Epoch 14: val_acc improved from 0.87453 to 0.87687, saving model to /content/drive/MyDrive/job_test/best_model.h5\n",
            "Epoch 14/25\n",
            "Training - loss: 0.0952 - accuracy: 0.8691\n",
            "Validation - loss: 0.0896 - accuracy: 0.8769\n",
            "\n",
            "200/200 [==============================] - 302s 2s/step - loss: 0.0952 - acc: 0.8691 - val_loss: 0.0896 - val_acc: 0.8769\n",
            "Epoch 15/25\n",
            "200/200 [==============================] - ETA: 0s - loss: 0.0930 - acc: 0.8729\n",
            "Epoch 15: val_acc improved from 0.87687 to 0.88031, saving model to /content/drive/MyDrive/job_test/best_model.h5\n",
            "Epoch 15/25\n",
            "Training - loss: 0.0930 - accuracy: 0.8729\n",
            "Validation - loss: 0.0880 - accuracy: 0.8803\n",
            "\n",
            "200/200 [==============================] - 300s 2s/step - loss: 0.0930 - acc: 0.8729 - val_loss: 0.0880 - val_acc: 0.8803\n",
            "Epoch 16/25\n",
            "200/200 [==============================] - ETA: 0s - loss: 0.0916 - acc: 0.8733\n",
            "Epoch 16: val_acc did not improve from 0.88031\n",
            "Epoch 16/25\n",
            "Training - loss: 0.0916 - accuracy: 0.8733\n",
            "Validation - loss: 0.0901 - accuracy: 0.8727\n",
            "\n",
            "200/200 [==============================] - 298s 1s/step - loss: 0.0916 - acc: 0.8733 - val_loss: 0.0901 - val_acc: 0.8727\n",
            "Epoch 17/25\n",
            "200/200 [==============================] - ETA: 0s - loss: 0.0887 - acc: 0.8796\n",
            "Epoch 17: val_acc did not improve from 0.88031\n",
            "Epoch 17/25\n",
            "Training - loss: 0.0887 - accuracy: 0.8796\n",
            "Validation - loss: 0.0901 - accuracy: 0.8756\n",
            "\n",
            "200/200 [==============================] - 299s 1s/step - loss: 0.0887 - acc: 0.8796 - val_loss: 0.0901 - val_acc: 0.8756\n",
            "Epoch 18/25\n",
            "200/200 [==============================] - ETA: 0s - loss: 0.0856 - acc: 0.8822\n",
            "Epoch 18: val_acc improved from 0.88031 to 0.89000, saving model to /content/drive/MyDrive/job_test/best_model.h5\n",
            "Epoch 18/25\n",
            "Training - loss: 0.0856 - accuracy: 0.8822\n",
            "Validation - loss: 0.0812 - accuracy: 0.8900\n",
            "\n",
            "200/200 [==============================] - 300s 2s/step - loss: 0.0856 - acc: 0.8822 - val_loss: 0.0812 - val_acc: 0.8900\n",
            "Epoch 19/25\n",
            "200/200 [==============================] - ETA: 0s - loss: 0.0835 - acc: 0.8877\n",
            "Epoch 19: val_acc improved from 0.89000 to 0.89250, saving model to /content/drive/MyDrive/job_test/best_model.h5\n",
            "Epoch 19/25\n",
            "Training - loss: 0.0835 - accuracy: 0.8877\n",
            "Validation - loss: 0.0801 - accuracy: 0.8925\n",
            "\n",
            "200/200 [==============================] - 278s 1s/step - loss: 0.0835 - acc: 0.8877 - val_loss: 0.0801 - val_acc: 0.8925\n",
            "Epoch 20/25\n",
            "200/200 [==============================] - ETA: 0s - loss: 0.0823 - acc: 0.8872\n",
            "Epoch 20: val_acc did not improve from 0.89250\n",
            "Epoch 20/25\n",
            "Training - loss: 0.0823 - accuracy: 0.8872\n",
            "Validation - loss: 0.0866 - accuracy: 0.8852\n",
            "\n",
            "200/200 [==============================] - 296s 1s/step - loss: 0.0823 - acc: 0.8872 - val_loss: 0.0866 - val_acc: 0.8852\n",
            "Epoch 21/25\n",
            "200/200 [==============================] - ETA: 0s - loss: 0.0801 - acc: 0.8921\n",
            "Epoch 21: val_acc improved from 0.89250 to 0.89328, saving model to /content/drive/MyDrive/job_test/best_model.h5\n",
            "Epoch 21/25\n",
            "Training - loss: 0.0801 - accuracy: 0.8921\n",
            "Validation - loss: 0.0788 - accuracy: 0.8933\n",
            "\n",
            "200/200 [==============================] - 296s 1s/step - loss: 0.0801 - acc: 0.8921 - val_loss: 0.0788 - val_acc: 0.8933\n",
            "Epoch 22/25\n",
            "200/200 [==============================] - ETA: 0s - loss: 0.0766 - acc: 0.8974\n",
            "Epoch 22: val_acc did not improve from 0.89328\n",
            "Epoch 22/25\n",
            "Training - loss: 0.0766 - accuracy: 0.8974\n",
            "Validation - loss: 0.0831 - accuracy: 0.8916\n",
            "\n",
            "200/200 [==============================] - 293s 1s/step - loss: 0.0766 - acc: 0.8974 - val_loss: 0.0831 - val_acc: 0.8916\n",
            "Epoch 23/25\n",
            "200/200 [==============================] - ETA: 0s - loss: 0.0773 - acc: 0.8960\n",
            "Epoch 23: val_acc did not improve from 0.89328\n",
            "Epoch 23/25\n",
            "Training - loss: 0.0773 - accuracy: 0.8960\n",
            "Validation - loss: 0.0806 - accuracy: 0.8913\n",
            "\n",
            "200/200 [==============================] - 296s 1s/step - loss: 0.0773 - acc: 0.8960 - val_loss: 0.0806 - val_acc: 0.8913\n",
            "Epoch 24/25\n",
            "200/200 [==============================] - ETA: 0s - loss: 0.0735 - acc: 0.9014\n",
            "Epoch 24: val_acc improved from 0.89328 to 0.89891, saving model to /content/drive/MyDrive/job_test/best_model.h5\n",
            "Epoch 24/25\n",
            "Training - loss: 0.0735 - accuracy: 0.9014\n",
            "Validation - loss: 0.0760 - accuracy: 0.8989\n",
            "\n",
            "200/200 [==============================] - 297s 1s/step - loss: 0.0735 - acc: 0.9014 - val_loss: 0.0760 - val_acc: 0.8989\n",
            "Epoch 25/25\n",
            "200/200 [==============================] - ETA: 0s - loss: 0.0733 - acc: 0.9022\n",
            "Epoch 25: val_acc did not improve from 0.89891\n",
            "Epoch 25/25\n",
            "Training - loss: 0.0733 - accuracy: 0.9022\n",
            "Validation - loss: 0.0779 - accuracy: 0.8977\n",
            "\n",
            "200/200 [==============================] - 303s 2s/step - loss: 0.0733 - acc: 0.9022 - val_loss: 0.0779 - val_acc: 0.8977\n"
          ]
        }
      ],
      "source": [
        "#Training of LSTM\n",
        "epochs = 25\n",
        "training = model.fit(X_train, Y_train, batch_size=128, epochs = epochs, verbose=1, shuffle=False,validation_data=(X_test,Y_test),callbacks=[checkpoint, PrintLossAndAccuracy()])\n"
      ]
    },
    {
      "cell_type": "code",
      "execution_count": 23,
      "metadata": {
        "id": "_2iDWah8wYVe",
        "colab": {
          "base_uri": "https://localhost:8080/"
        },
        "outputId": "413e5fcf-df77-4d18-d745-cb3a9e2a5398"
      },
      "outputs": [
        {
          "output_type": "stream",
          "name": "stdout",
          "text": [
            "200/200 [==============================] - 42s 207ms/step - loss: 0.0779 - acc: 0.8977\n"
          ]
        }
      ],
      "source": [
        "#Model Evaluation with test data\n",
        "score = model.evaluate(X_test, Y_test, verbose=1)"
      ]
    },
    {
      "cell_type": "code",
      "execution_count": 24,
      "metadata": {
        "id": "xadRP-VJhQIo",
        "colab": {
          "base_uri": "https://localhost:8080/"
        },
        "outputId": "2f293549-efb1-4578-b8dd-f60ed0bb4019"
      },
      "outputs": [
        {
          "output_type": "stream",
          "name": "stdout",
          "text": [
            "200/200 [==============================] - 42s 203ms/step\n",
            "              precision    recall  f1-score   support\n",
            "\n",
            "       False       0.86      0.93      0.89      2956\n",
            "        True       0.93      0.87      0.90      3444\n",
            "\n",
            "    accuracy                           0.90      6400\n",
            "   macro avg       0.90      0.90      0.90      6400\n",
            "weighted avg       0.90      0.90      0.90      6400\n",
            "\n"
          ]
        }
      ],
      "source": [
        "#Confusion Matrix\n",
        "from sklearn.metrics import confusion_matrix,classification_report\n",
        "y_pred = model.predict(X_test)\n",
        "y_pred = (y_pred > 0.5)\n",
        "cm =confusion_matrix(y_pred, Y_test)\n",
        "cm\n",
        "print(classification_report(y_pred,Y_test))"
      ]
    },
    {
      "cell_type": "code",
      "execution_count": 26,
      "metadata": {
        "id": "Cu6uWubSdgRx"
      },
      "outputs": [],
      "source": [
        "#Ploting model history in terms of Accuracy and loss\n",
        "\n",
        "def plot_learningCurve(trained_model, epochs):\n",
        "   epoch_range = range(1, epochs+1)\n",
        "  plt.plot(epoch_range, trained_model.history['acc'])\n",
        "  plt.plot(epoch_range, trained_model.history['val_acc'])\n",
        "  plt.title('Model accuracy')\n",
        "  plt.ylabel('Accuracy')\n",
        "  plt.xlabel('Epoch')\n",
        "  plt.legend(['Train', 'Val'], loc='upper left')\n",
        "  plt.show()\n",
        "\n",
        "  plt.plot(epoch_range, trained_model.history['loss'])\n",
        "  plt.plot(epoch_range, trained_model.history['val_loss'])\n",
        "\n",
        "  plt.title('Model loss')\n",
        "  plt.ylabel('Loss')\n",
        "  plt.xlabel('Epoch')\n",
        "  plt.legend(['Train', 'Val'], loc='upper left')\n",
        "  plt.show()"
      ]
    },
    {
      "cell_type": "code",
      "execution_count": 27,
      "metadata": {
        "id": "YWPvRpJ_dgUp",
        "colab": {
          "base_uri": "https://localhost:8080/",
          "height": 927
        },
        "outputId": "2ed98ec9-edd6-4a66-a5a4-c5ffd5625cbc"
      },
      "outputs": [
        {
          "output_type": "display_data",
          "data": {
            "text/plain": [
              "<Figure size 640x480 with 1 Axes>"
            ],
            "image/png": "[encoded data removed]"
          },
          "metadata": {}
        },
        {
          "output_type": "display_data",
          "data": {
            "text/plain": [
              "<Figure size 640x480 with 1 Axes>"
            ],
            "image/png": "[encoded data removed]"
          },
          "metadata": {}
        }
      ],
      "source": [
        "plot_learningCurve(training, 25)"
      ]
    }
  ],
  "metadata": {
    "colab": {
      "provenance": []
    },
    "kernelspec": {
      "display_name": "Python 3",
      "name": "python3"
    },
    "language_info": {
      "name": "python"
    }
  },
  "nbformat": 4,
  "nbformat_minor": 0
}