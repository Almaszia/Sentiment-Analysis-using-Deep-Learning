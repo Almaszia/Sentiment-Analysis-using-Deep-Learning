{
  "nbformat": 4,
  "nbformat_minor": 0,
  "metadata": {
    "colab": {
      "provenance": []
    },
    "kernelspec": {
      "name": "python3",
      "display_name": "Python 3"
    },
    "language_info": {
      "name": "python"
    }
  },
  "cells": [
    {
      "cell_type": "code",
      "source": [
        "import re\n",
        "import numpy as np\n",
        "from numpy import asarray, zeros\n",
        "from keras.preprocessing.text import Tokenizer\n",
        "from tensorflow.keras.preprocessing.sequence import pad_sequences\n",
        "from tensorflow.keras.models import load_model"
      ],
      "metadata": {
        "id": "Y6QM3X-GZTj4"
      },
      "execution_count": 12,
      "outputs": []
    },
    {
      "cell_type": "code",
      "source": [
        "from google.colab import drive\n",
        "drive.mount('/content/drive')"
      ],
      "metadata": {
        "colab": {
          "base_uri": "https://localhost:8080/"
        },
        "id": "9Mh6K25vYt1m",
        "outputId": "e1470aa7-653e-4ca9-ab6f-20cc6d870e3f"
      },
      "execution_count": 2,
      "outputs": [
        {
          "output_type": "stream",
          "name": "stdout",
          "text": [
            "Mounted at /content/drive\n"
          ]
        }
      ]
    },
    {
      "cell_type": "code",
      "execution_count": 13,
      "metadata": {
        "id": "RlM_Z6HCT8w3"
      },
      "outputs": [],
      "source": [
        "#Preprocessing\n",
        "def preprocess_text(sen):\n",
        "    sentence = re.sub(r'<.*?>', '', sen)\n",
        "    sentence = re.sub('[^a-zA-Z]', ' ', sentence)\n",
        "    sentence = re.sub(r\"\\s+[a-zA-Z]\\s+\", ' ', sentence)\n",
        "    sentence = re.sub(r'\\s+', ' ', sentence)\n",
        "    return sentence\n",
        "\n",
        "# Loading GloVe embeddings\n",
        "embeddings_dictionary = dict()\n",
        "glove_file = open('./glove.6B.200d.txt', encoding=\"utf8\")\n",
        "for line in glove_file:\n",
        "    records = line.split(' ')\n",
        "    word = records[0]\n",
        "    vector_dimensions = asarray(records[1:], dtype='float32')\n",
        "    embeddings_dictionary[word] = vector_dimensions\n",
        "glove_file.close()\n",
        "\n",
        "#Tokenization\n",
        "tokenizer = Tokenizer(num_words=20000)\n",
        "tokenizer.fit_on_texts([''])\n",
        "\n",
        "# Loading trained model\n",
        "model = load_model('best_model.h5')\n",
        "\n",
        "# Function to preprocess input and predict sentiment\n",
        "def predict_sentiment(input_text):\n",
        "    # Preprocess input\n",
        "    preprocessed_input = preprocess_text(input_text)\n",
        "    input_sequence = tokenizer.texts_to_sequences([preprocessed_input])\n",
        "    padded_input_sequence = pad_sequences(input_sequence, padding='post', maxlen=256)\n",
        "\n",
        "    # Predict sentiment\n",
        "    prediction = model.predict(padded_input_sequence)\n",
        "    sentiment = \"positive\" if prediction > 0.5 else \"negative\"\n",
        "\n",
        "    return sentiment"
      ]
    },
    {
      "cell_type": "code",
      "source": [
        "# Get user input and predict sentiment\n",
        "user_input = input(\"Enter a review: \")\n",
        "predicted_sentiment = predict_sentiment(user_input)\n",
        "print(\"User input:\", user_input)\n",
        "print(\"Predicted sentiment:\", predicted_sentiment)\n",
        "\n",
        "#Example review\n",
        "# '''\n",
        "# Expectations were somewhat high for me when I went to see this movie, after all I thought Steve Carell could do no wrong coming off\n",
        "# of great movies like Anchorman, The 40 Year-Old Virgin, and Little Miss Sunshine. Boy, was I wrong.<br /><br />I'll start with what\n",
        "# is right with this movie: at certain points Steve Carell is allowed to be Steve Carell. There are a handful of moments in the film\n",
        "# that made me laugh, and it's due almost entirely to him being given the wiggle-room to do his thing. He's an undoubtedly talented\n",
        "# individual, and it's a shame that he signed on to what turned out to be, in my opinion, a total train-wreck.<br /><br />With that\n",
        "# out of the way, I'll discuss what went horrifyingly wrong.<br /><br />The film begins with Dan Burns, a widower with three girls\n",
        "# who is being considered for a nationally syndicated advice column. He prepares his girls for a family reunion, where his extended\n",
        "# relatives gather for some time with each other.<br /><br />The family is high atop the list of things that make this an awful movie\n",
        "# No family behaves like this. It's almost as if they've been transported from Pleasantville or Leave it to Beaver.\n",
        "# They are a caricature of what we think a family is when we're 7. It reaches the point where they become obnoxious and simply frustrating.\n",
        "# Touch football, crossword puzzle competitions, family bowling, and talent shows ARE NOT HOW ACTUAL PEOPLE BEHAVE. It's almost sickening.\n",
        "# <br /><br />Another big flaw is the woman Carell is supposed to be falling for. Observing her in her first scene with Steve Carell is\n",
        "# like watching a stroke victim trying to be rehabilitated. What I imagine is supposed to be unique and original in this woman comes off\n",
        "# as mildly retarded.<br /><br />It makes me think that\n",
        "# this movie is taking place on another planet. I left the theater wondering what I just saw. After thinking further, I don't think it was much.'''"
      ],
      "metadata": {
        "colab": {
          "base_uri": "https://localhost:8080/"
        },
        "id": "OItKSDYZZqL8",
        "outputId": "dbdae97b-c3be-45c0-b62c-252efdd8c640"
      },
      "execution_count": 17,
      "outputs": [
        {
          "output_type": "stream",
          "name": "stdout",
          "text": [
            "Enter a review: Expectations were somewhat high for me when I went to see this movie, after all I thought Steve Carell could do no wrong coming off of great movies like Anchorman, The 40 Year-Old Virgin, and Little Miss Sunshine. Boy, was I wrong.<br /><br />I'll start with what is right with this movie: at certain points Steve Carell is allowed to be Steve Carell. There are a handful of moments in the film  that made me laugh, and it's due almost entirely to him being given the wiggle-room to do his thing. He's an undoubtedly talented  individual, and it's a shame that he signed on to what turned out to be, in my opinion, a total train-wreck.<br /><br />With that  out of the way, I'll discuss what went horrifyingly wrong.<br /><br />The film begins with Dan Burns, a widower with three girls who is being considered for a nationally syndicated advice column. He prepares his girls for a family reunion, where his extended  relatives gather for some time with each other.<br /><br />The family is high atop the list of things that make this an awful movie No family behaves like this. It's almost as if they've been transported from Pleasantville or Leave it to Beaver.  They are a caricature of what we think a family is when we're 7. It reaches the point where they become obnoxious and simply frustrating. Touch football, crossword puzzle competitions, family bowling, and talent shows ARE NOT HOW ACTUAL PEOPLE BEHAVE. It's almost sickening. <br /><br />Another big flaw is the woman Carell is supposed to be falling for. Observing her in her first scene with Steve Carell is like watching a stroke victim trying to be rehabilitated. What I imagine is supposed to be unique and original in this woman comes off as mildly retarded.<br /><br />It makes me think that  this movie is taking place on another planet. I left the theater wondering what I just saw. After thinking further, I don't think it was much.\n",
            "1/1 [==============================] - 0s 35ms/step\n",
            "User input: Expectations were somewhat high for me when I went to see this movie, after all I thought Steve Carell could do no wrong coming off of great movies like Anchorman, The 40 Year-Old Virgin, and Little Miss Sunshine. Boy, was I wrong.<br /><br />I'll start with what is right with this movie: at certain points Steve Carell is allowed to be Steve Carell. There are a handful of moments in the film  that made me laugh, and it's due almost entirely to him being given the wiggle-room to do his thing. He's an undoubtedly talented  individual, and it's a shame that he signed on to what turned out to be, in my opinion, a total train-wreck.<br /><br />With that  out of the way, I'll discuss what went horrifyingly wrong.<br /><br />The film begins with Dan Burns, a widower with three girls who is being considered for a nationally syndicated advice column. He prepares his girls for a family reunion, where his extended  relatives gather for some time with each other.<br /><br />The family is high atop the list of things that make this an awful movie No family behaves like this. It's almost as if they've been transported from Pleasantville or Leave it to Beaver.  They are a caricature of what we think a family is when we're 7. It reaches the point where they become obnoxious and simply frustrating. Touch football, crossword puzzle competitions, family bowling, and talent shows ARE NOT HOW ACTUAL PEOPLE BEHAVE. It's almost sickening. <br /><br />Another big flaw is the woman Carell is supposed to be falling for. Observing her in her first scene with Steve Carell is like watching a stroke victim trying to be rehabilitated. What I imagine is supposed to be unique and original in this woman comes off as mildly retarded.<br /><br />It makes me think that  this movie is taking place on another planet. I left the theater wondering what I just saw. After thinking further, I don't think it was much.\n",
            "Predicted sentiment: negative\n"
          ]
        }
      ]
    }
  ]
}